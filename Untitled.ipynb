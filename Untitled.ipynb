{
 "cells": [
  {
   "cell_type": "code",
   "execution_count": 2,
   "metadata": {
    "collapsed": true
   },
   "outputs": [],
   "source": [
    "import numpy as np\n",
    "import matplotlib.pyplot as plt\n",
    "from sklearn.cross_decomposition import PLSCanonical, PLSRegression, CCA"
   ]
  },
  {
   "cell_type": "code",
   "execution_count": 3,
   "metadata": {
    "collapsed": false
   },
   "outputs": [],
   "source": [
    "n = 500\n",
    "# 2 latents vars:\n",
    "l1 = np.random.normal(size=n)\n",
    "l2 = np.random.normal(size=n)\n",
    "\n",
    "latents = np.array([l1, l1, l2, l2]).T\n",
    "X = latents + np.random.normal(size=4 * n).reshape((n, 4))\n",
    "Y = latents + np.random.normal(size=4 * n).reshape((n, 4))"
   ]
  },
  {
   "cell_type": "code",
   "execution_count": 6,
   "metadata": {
    "collapsed": false
   },
   "outputs": [
    {
     "name": "stdout",
     "output_type": "stream",
     "text": [
      "Corr(X)\n",
      "[[ 1.    0.53  0.04  0.09]\n",
      " [ 0.53  1.    0.02  0.11]\n",
      " [ 0.04  0.02  1.    0.5 ]\n",
      " [ 0.09  0.11  0.5   1.  ]]\n",
      "Corr(Y)\n",
      "[[ 1.    0.46 -0.03  0.01]\n",
      " [ 0.46  1.    0.    0.03]\n",
      " [-0.03  0.    1.    0.54]\n",
      " [ 0.01  0.03  0.54  1.  ]]\n"
     ]
    }
   ],
   "source": [
    "X_train = X[:n / 2]\n",
    "Y_train = Y[:n / 2]\n",
    "X_test = X[n / 2:]\n",
    "Y_test = Y[n / 2:]\n",
    "\n",
    "print(\"Corr(X)\")\n",
    "print(np.round(np.corrcoef(X.T), 2))\n",
    "print(\"Corr(Y)\")\n",
    "print(np.round(np.corrcoef(Y.T), 2))"
   ]
  },
  {
   "cell_type": "code",
   "execution_count": 7,
   "metadata": {
    "collapsed": true
   },
   "outputs": [],
   "source": [
    "# Transform data\n",
    "# ~~~~~~~~~~~~~~\n",
    "plsca = PLSCanonical(n_components=2)\n",
    "plsca.fit(X_train, Y_train)\n",
    "X_train_r, Y_train_r = plsca.transform(X_train, Y_train)\n",
    "X_test_r, Y_test_r = plsca.transform(X_test, Y_test)"
   ]
  },
  {
   "cell_type": "code",
   "execution_count": 10,
   "metadata": {
    "collapsed": false
   },
   "outputs": [
    {
     "data": {
      "text/plain": [
       "array([[-0.24137233, -0.98363267],\n",
       "       [-2.23390442,  0.70750573],\n",
       "       [ 0.85590724, -0.15388927],\n",
       "       [-0.69554813, -1.30404568],\n",
       "       [-4.05449305,  0.88991118],\n",
       "       [ 0.14278965, -0.19433064],\n",
       "       [ 1.00890788, -1.75818697],\n",
       "       [-0.61049202,  1.45736773],\n",
       "       [ 1.59493531,  0.85654251],\n",
       "       [-0.62829601, -0.8697599 ]])"
      ]
     },
     "execution_count": 10,
     "metadata": {},
     "output_type": "execute_result"
    }
   ],
   "source": [
    "X_train_r[0:10]"
   ]
  },
  {
   "cell_type": "code",
   "execution_count": 11,
   "metadata": {
    "collapsed": false
   },
   "outputs": [
    {
     "data": {
      "text/plain": [
       "array([[ 2.86687439, -1.99001459],\n",
       "       [-0.26802161,  1.43351305],\n",
       "       [ 1.21820201,  0.80591126],\n",
       "       [ 0.49637792,  1.47038279],\n",
       "       [-4.08378823,  0.15694158],\n",
       "       [ 1.42227971, -2.07972043],\n",
       "       [ 0.07809524, -1.67059297],\n",
       "       [-0.47672922,  3.11999305],\n",
       "       [ 1.61365446, -0.24109441],\n",
       "       [-0.57942239, -0.7341745 ]])"
      ]
     },
     "execution_count": 11,
     "metadata": {},
     "output_type": "execute_result"
    }
   ],
   "source": [
    "Y_train_r[0:10]"
   ]
  },
  {
   "cell_type": "code",
   "execution_count": null,
   "metadata": {
    "collapsed": true
   },
   "outputs": [],
   "source": []
  }
 ],
 "metadata": {
  "kernelspec": {
   "display_name": "Python 2",
   "language": "python",
   "name": "python2"
  }
 },
 "nbformat": 4,
 "nbformat_minor": 0
}
